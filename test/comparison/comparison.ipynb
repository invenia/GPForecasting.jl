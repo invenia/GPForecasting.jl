{
 "cells": [
  {
   "cell_type": "markdown",
   "metadata": {},
   "source": [
    "# Comparison of GPForecasting GaussianProcersses and GPy"
   ]
  },
  {
   "cell_type": "markdown",
   "metadata": {},
   "source": [
    "The notebook includes a profound comparison between 3 Gaussian process implementations:\n",
    "- `GPForecasting.jl`\n",
    "- `GaussianProcess.jl`\n",
    "- `GPy`\n",
    "\n",
    "The tests for comparison here are used in the unit test of `synthetic.jl` of `GPForecasting.jl`.\n",
    "Comparisons are perfromed for:\n",
    "- one dimensional input\n",
    "- multidimensional input\n",
    "- multidimensional output (`GPForecasting.jl` and `GPy` only)\n",
    "\n",
    "The following metrics were used for comparison before and after hyperparameter optimization:\n",
    "- marginal log likelihood (on the training data): `MLL_cov(train)`\n",
    "- mean squared error on test data: `MSE(test)`\n",
    "- mean log loss on test data using predicted mean and noiseless variance: `MLL_var(test)`\n",
    "- mean log loss on test data using predicted mean and covariance: `MLL_cov(test)`\n",
    "\n",
    "Notes:\n",
    "- for `GaussianProcesses.jl` hyperparameter optimizations we used the same specifcations of omptimizations as in `GPForecasting.jl` as it's more stable\n",
    "- results of multidimensional output problems can differ significantly for `GPForecasting.jl` and `GPy` due to the different implementations. These tests are therefore only indicative."
   ]
  },
  {
   "cell_type": "code",
   "execution_count": 1,
   "metadata": {},
   "outputs": [
    {
     "name": "stderr",
     "output_type": "stream",
     "text": [
      "┌ Warning: `getindex(o::PyObject, s::AbstractString)` is deprecated in favor of dot overloading (`getproperty`) so elements should now be accessed as e.g. `o.\"s\"` instead of `o[\"s\"]`.\n",
      "│   caller = top-level scope at none:0\n",
      "└ @ Core none:0\n",
      "┌ Warning: `@pyimport foo` is deprecated in favor of `foo = pyimport(\"foo\")`.\n",
      "│   caller = _pywrap_pyimport(::PyObject) at PyCall.jl:407\n",
      "└ @ PyCall /Users/molet/.julia/packages/PyCall/a5Jd3/src/PyCall.jl:407\n"
     ]
    }
   ],
   "source": [
    "using Pkg\n",
    "using GPForecasting\n",
    "using GaussianProcesses\n",
    "using PyCall\n",
    "using PyPlot\n",
    "using Distributions\n",
    "using BenchmarkTools\n",
    "using Conda\n",
    "using LinearAlgebra\n",
    "using Statistics\n",
    "using Random: seed!\n",
    "using Optim\n",
    "using LineSearches\n",
    "using FillArrays\n",
    "@pyimport GPy as GPy"
   ]
  },
  {
   "cell_type": "markdown",
   "metadata": {},
   "source": [
    "## Check versions"
   ]
  },
  {
   "cell_type": "code",
   "execution_count": 2,
   "metadata": {},
   "outputs": [
    {
     "name": "stdout",
     "output_type": "stream",
     "text": [
      "\u001b[32m\u001b[1m    Status\u001b[22m\u001b[39m `~/.julia/environments/v1.1/Project.toml`\n",
      " \u001b[90m [13ebecde]\u001b[39m\u001b[37m GPForecasting v1.0.2\u001b[39m\n"
     ]
    }
   ],
   "source": [
    "Pkg.status(\"GPForecasting\")"
   ]
  },
  {
   "cell_type": "code",
   "execution_count": 3,
   "metadata": {},
   "outputs": [
    {
     "name": "stdout",
     "output_type": "stream",
     "text": [
      "\u001b[32m\u001b[1m    Status\u001b[22m\u001b[39m `~/.julia/environments/v1.1/Project.toml`\n",
      " \u001b[90m [891a1506]\u001b[39m\u001b[37m GaussianProcesses v0.9.0\u001b[39m\n"
     ]
    }
   ],
   "source": [
    "Pkg.status(\"GaussianProcesses\")"
   ]
  },
  {
   "cell_type": "code",
   "execution_count": 4,
   "metadata": {},
   "outputs": [
    {
     "data": {
      "text/plain": [
       "\"1.9.6\""
      ]
     },
     "execution_count": 4,
     "metadata": {},
     "output_type": "execute_result"
    }
   ],
   "source": [
    "GPy.__version__"
   ]
  },
  {
   "cell_type": "markdown",
   "metadata": {},
   "source": [
    "## Optimization functions for GaussianProcesses and GPy using the same specifications as in GPForecasting"
   ]
  },
  {
   "cell_type": "code",
   "execution_count": 5,
   "metadata": {},
   "outputs": [
    {
     "data": {
      "text/plain": [
       "learn! (generic function with 2 methods)"
      ]
     },
     "execution_count": 5,
     "metadata": {},
     "output_type": "execute_result"
    }
   ],
   "source": [
    "function learn!(gp::GPBase; its=200, trace=true, domean=true, kern=true, noise=true, lik=true)\n",
    "    \n",
    "    params_kwargs = GaussianProcesses.get_params_kwargs(gp; domean=domean, kern=kern, noise=noise, lik=lik)\n",
    "    \n",
    "    function f(hyp::Vector{Float64})\n",
    "        GaussianProcesses.set_params!(gp, hyp; params_kwargs...)\n",
    "        GaussianProcesses.update_target!(gp)\n",
    "        return -gp.target\n",
    "    end\n",
    "    \n",
    "    function g!(storage::Vector, hyp::Vector{Float64})\n",
    "        GaussianProcesses.set_params!(gp, hyp; params_kwargs...)\n",
    "        GaussianProcesses.update_target_and_dtarget!(gp; params_kwargs...)\n",
    "        storage[:] = -gp.dtarget\n",
    "    end\n",
    "    \n",
    "    params = GaussianProcesses.get_params(gp; params_kwargs...)\n",
    "            \n",
    "    results = optimize(\n",
    "        f, \n",
    "        g!, \n",
    "        params, \n",
    "        LBFGS(alphaguess = LineSearches.InitialStatic(scaled=true), linesearch = LineSearches.BackTracking()),\n",
    "        Optim.Options(\n",
    "            x_tol = 1.0e-8,\n",
    "            f_tol = 1.0e-8,\n",
    "            g_tol = 1.0e-5,\n",
    "            f_calls_limit = its,\n",
    "            g_calls_limit = its,\n",
    "            iterations = its,\n",
    "            show_trace = trace,\n",
    "        ),\n",
    "    )\n",
    "    \n",
    "    return results\n",
    "end\n",
    "\n",
    "function learn!(gp; its=200, trace=true)\n",
    "    \n",
    "    params_names = gp.parameter_names()\n",
    "    \n",
    "    function f(hyp::Vector{Float64})\n",
    "        for i = 1:length(hyp)\n",
    "            gp.__setitem__(params_names[i], hyp[i])\n",
    "        end\n",
    "        gp.parameters_changed()\n",
    "        return gp.objective_function()\n",
    "    end\n",
    "    \n",
    "    function g!(storage::Vector, hyp::Vector{Float64})\n",
    "        for i = 1:length(hyp)\n",
    "            gp.__setitem__(params_names[i], hyp[i])\n",
    "        end\n",
    "        gp.parameters_changed()\n",
    "        storage[:] = gp.objective_function_gradients()\n",
    "    end\n",
    "    \n",
    "    params = gp.param_array\n",
    "        \n",
    "    results = optimize(\n",
    "        f, \n",
    "        g!, \n",
    "        params, \n",
    "        LBFGS(alphaguess = LineSearches.InitialStatic(scaled=true), linesearch = LineSearches.BackTracking()),\n",
    "        Optim.Options(\n",
    "            x_tol = 1.0e-8,\n",
    "            f_tol = 1.0e-8,\n",
    "            g_tol = 1.0e-5,\n",
    "            f_calls_limit = its,\n",
    "            g_calls_limit = its,\n",
    "            iterations = its,\n",
    "            show_trace = trace,\n",
    "        ),\n",
    "    )\n",
    "    \n",
    "    return results\n",
    "end\n",
    ";"
   ]
  },
  {
   "cell_type": "markdown",
   "metadata": {},
   "source": [
    "## Loss functions"
   ]
  },
  {
   "cell_type": "code",
   "execution_count": 6,
   "metadata": {},
   "outputs": [],
   "source": [
    "function mse(means, y_true)                                                                  \n",
    "    return mean((y_true .- means).^2)                                                        \n",
    "end\n",
    "\n",
    "function mll_var(means, vars, y_true)\n",
    "    return 0.5 * mean(log.(2π .* vars)) .+ 0.5 * mean((y_true .- means).^2 ./ vars)\n",
    "end\n",
    "\n",
    "function mll_cov(means, cov, y_true)\n",
    "    return -logpdf(MvNormal(vec(means), cov), vec(y_true))\n",
    "end\n",
    ";"
   ]
  },
  {
   "cell_type": "markdown",
   "metadata": {},
   "source": [
    "## Wrapper functions for 1 dimensional output tests"
   ]
  },
  {
   "cell_type": "code",
   "execution_count": 7,
   "metadata": {},
   "outputs": [],
   "source": [
    "function gpforecasting(m, k, x_train, y_train, x_test, y_test; print_result=true, opt=true)\n",
    "    print_result && println(\"GPForecasting\")\n",
    "    print_result && println(\"-------------\")\n",
    "    gp = GPForecasting.GP(m, k)\n",
    "    before = condition(gp, Observed(x_train), y_train)\n",
    "    μ = before.m(Latent(x_test))\n",
    "    σ²= diag(before.k(Latent(x_test)))\n",
    "    Σ = before.k(Observed(x_test))\n",
    "    \n",
    "    print_result && println(\"Before => MLL_cov(train): \", -logpdf(gp, Observed(x_train), y_train))\n",
    "    print_result && println(\"Before => MSE(test): \", mse(μ, y_test))\n",
    "    print_result && println(\"Before => MLL_var(test, f): \", mll_var(μ, σ², y_test))\n",
    "    print_result && println(\"Before => MLL_cov(test, y): \", mll_cov(μ, Σ, y_test))\n",
    "    if opt\n",
    "        pgp = learn(gp, Observed(x_train), y_train, objective, trace=false)\n",
    "        after = condition(pgp, Observed(x_train), y_train)\n",
    "        μ = after.m(Latent(x_test))\n",
    "        σ²= diag(after.k(Latent(x_test)))\n",
    "        Σ = after.k(Observed(x_test))\n",
    "        print_result && println(\"-------------\")\n",
    "        print_result && println(\"After => MLL_cov(train): \", -logpdf(pgp, Observed(x_train), y_train))\n",
    "        print_result && println(\"After => MSE(test): \", mse(μ, y_test))\n",
    "        print_result && println(\"After => MLL_var(test, f): \", mll_var(μ, σ², y_test))\n",
    "        print_result && println(\"Aftyer => MLL_cov(test, y): \", mll_cov(μ, Σ, y_test))\n",
    "    end\n",
    "end\n",
    "\n",
    "function gaussianprocesses(m, k, logNoise, x_train, y_train, x_test, y_test; print_result=true, opt=true)\n",
    "    print_result && println(\"GaussianProcesses\")\n",
    "    print_result && println(\"-----------------\")\n",
    "    gp = GaussianProcesses.GP(x_train, y_train, m, k, logNoise)\n",
    "    before = deepcopy(gp)\n",
    "    μ, σ²= predict_f(before, x_test)\n",
    "    _, Σ = predict_y(before, x_test, full_cov=true)\n",
    "    print_result && println(\"Before => MLL_cov(train): \", -before.mll)\n",
    "    print_result && println(\"Before => MSE(test): \", mse(μ, y_test))\n",
    "    print_result && println(\"Before => MLL_var(test, f): \", mll_var(μ, σ², y_test))\n",
    "    print_result && println(\"Before => MLL_cov(test, y): \", mll_cov(μ, Σ, y_test))\n",
    "    if opt\n",
    "        after = deepcopy(gp)\n",
    "        learn!(after, trace=false)\n",
    "        #optimize!(after) # using GaussianProcesses' own optimizer\n",
    "        μ, σ²= predict_f(after, x_test)\n",
    "        _, Σ = predict_y(after, x_test, full_cov=true)\n",
    "        print_result && println(\"-----------------\")\n",
    "        print_result && println(\"After => MLL_cov(train): \", -after.mll)\n",
    "        print_result && println(\"After => MSE(test): \", mse(μ, y_test))\n",
    "        print_result && println(\"After => MLL_var(test, f) after: \", mll_var(μ, σ², y_test))\n",
    "        print_result && println(\"After => MLL_cov(test, y) after: \", mll_cov(μ, Σ, y_test))\n",
    "    end\n",
    "end\n",
    "\n",
    "function gpy(k, noise_var, x_train, y_train, x_test, y_test; print_result=true, opt=true)\n",
    "    print_result && println(\"GPy\")\n",
    "    print_result && println(\"---\")\n",
    "    gp = GPy.models.GPRegression(x_train, y_train, k, noise_var=noise_var)\n",
    "    μ, σ²= gp.predict_noiseless(x_test)\n",
    "    _, Σ = gp.predict(x_test, full_cov=true)\n",
    "    print_result && println(\"Before => MLL_cov(train): \", gp.objective_function())\n",
    "    print_result && println(\"Before => MSE(test): \", mse(μ, y_test))\n",
    "    print_result && println(\"Before => MLL_var(test, f): \", mll_var(μ, σ², y_test))\n",
    "    print_result && println(\"Before => MLL_cov(test, y): \", mll_cov(μ, Σ, y_test))\n",
    "    if opt\n",
    "        gp.optimize() # using GPy's own optimizer\n",
    "        #learn!(gp, trace=false)\n",
    "        μ, σ²= gp.predict_noiseless(x_test)\n",
    "        _, Σ = gp.predict(x_test, full_cov=true)\n",
    "        print_result && println(\"---\")\n",
    "        print_result && println(\"After => MLL_cov(train): \", gp.objective_function())\n",
    "        print_result && println(\"After => MSE(test): \", mse(μ, y_test))\n",
    "        print_result && println(\"After => MLL_var(test, f): \", mll_var(μ, σ², y_test))\n",
    "        print_result && println(\"After => MLL_cov(test, y): \", mll_cov(μ, Σ, y_test))\n",
    "    end\n",
    "end\n",
    ";"
   ]
  },
  {
   "cell_type": "markdown",
   "metadata": {},
   "source": [
    "## 1. One dimensional problems"
   ]
  },
  {
   "cell_type": "code",
   "execution_count": 24,
   "metadata": {},
   "outputs": [],
   "source": [
    "seed!(314159265)                                                                     \n",
    "n = 50                                                                               \n",
    "f_1d(x) = sin.(x) .* sin.(2.0 * x) + 0.25 * rand(n)                                  \n",
    "x_train = sort(2pi .* rand(n))                                                       \n",
    "x_test = sort(2pi .* rand(n))                                                        \n",
    "y_train = f_1d(x_train)                                                              \n",
    "y_test = f_1d(x_test)\n",
    ";"
   ]
  },
  {
   "cell_type": "markdown",
   "metadata": {},
   "source": [
    "### 1.1. Squared exponential kernel"
   ]
  },
  {
   "cell_type": "code",
   "execution_count": 9,
   "metadata": {},
   "outputs": [
    {
     "name": "stdout",
     "output_type": "stream",
     "text": [
      "GPForecasting\n",
      "-------------\n",
      "Before => MLL_cov(train): 3766.980240219634\n",
      "Before => MSE(test): 0.14825538985254585\n",
      "Before => MLL_var(test, f): 1476.7191748817445\n",
      "Before => MLL_cov(test, y): 3407.3765660334084\n",
      "-------------\n",
      "After => MLL_cov(train): -31.35943168820105\n",
      "After => MSE(test): 0.006339639909682949\n",
      "After => MLL_var(test, f): -0.5729040630044968\n",
      "Aftyer => MLL_cov(test, y): -57.941165255286776\n"
     ]
    },
    {
     "data": {
      "text/plain": [
       "BenchmarkTools.Trial: \n",
       "  memory estimate:  1.69 MiB\n",
       "  allocs estimate:  15814\n",
       "  --------------\n",
       "  minimum time:     814.850 μs (0.00% GC)\n",
       "  median time:      893.378 μs (0.00% GC)\n",
       "  mean time:        1.176 ms (23.24% GC)\n",
       "  maximum time:     5.489 ms (82.45% GC)\n",
       "  --------------\n",
       "  samples:          4205\n",
       "  evals/sample:     1"
      ]
     },
     "execution_count": 9,
     "metadata": {},
     "output_type": "execute_result"
    }
   ],
   "source": [
    "k = NoiseKernel(2.0 * (EQ() ▷ 10.0), 0.001 * DiagonalKernel())\n",
    "m = ZeroMean()\n",
    "gpforecasting(m, k, x_train, y_train, x_test, y_test)\n",
    "@benchmark gpforecasting(m, k, x_train, y_train, x_test, y_test, print_result=false, opt=false)"
   ]
  },
  {
   "cell_type": "code",
   "execution_count": 10,
   "metadata": {},
   "outputs": [
    {
     "name": "stdout",
     "output_type": "stream",
     "text": [
      "GaussianProcesses\n",
      "-----------------\n",
      "Before => MLL_cov(train): 3770.787189482617\n",
      "Before => MSE(test): 0.1482528094589627\n",
      "Before => MLL_var(test, f): 1478.0822369108082\n",
      "Before => MLL_cov(test, y): 3407.407348344549\n",
      "-----------------\n",
      "After => MLL_cov(train): -31.359431686681283\n",
      "After => MSE(test): 0.006339643004401141\n",
      "After => MLL_var(test, f) after: -0.5729201944785125\n",
      "After => MLL_cov(test, y) after: -57.940584472605366\n"
     ]
    },
    {
     "data": {
      "text/plain": [
       "BenchmarkTools.Trial: \n",
       "  memory estimate:  359.33 KiB\n",
       "  allocs estimate:  1091\n",
       "  --------------\n",
       "  minimum time:     546.425 μs (0.00% GC)\n",
       "  median time:      600.574 μs (0.00% GC)\n",
       "  mean time:        668.428 μs (8.31% GC)\n",
       "  maximum time:     4.788 ms (83.71% GC)\n",
       "  --------------\n",
       "  samples:          7435\n",
       "  evals/sample:     1"
      ]
     },
     "execution_count": 10,
     "metadata": {},
     "output_type": "execute_result"
    }
   ],
   "source": [
    "k = SEIso(log(10.0), log(sqrt(2.0)))\n",
    "m = MeanZero()\n",
    "logNoise = log(sqrt(0.001))\n",
    "gaussianprocesses(m, k, logNoise, x_train, y_train, x_test, y_test)\n",
    "@benchmark gaussianprocesses(m, k, logNoise, x_train, y_train, x_test, y_test, print_result=false, opt=false)"
   ]
  },
  {
   "cell_type": "code",
   "execution_count": 11,
   "metadata": {},
   "outputs": [
    {
     "name": "stdout",
     "output_type": "stream",
     "text": [
      "GPy\n",
      "---\n",
      "Before => MLL_cov(train): 3770.7490822655695\n",
      "Before => MSE(test): 0.1482528352712732\n",
      "Before => MLL_var(test, f): 1478.0685933599136\n",
      "Before => MLL_cov(test, y): 3407.4072433172787\n",
      "---\n",
      "After => MLL_cov(train): -31.359431688267463\n",
      "After => MSE(test): 0.0063396402095871095\n",
      "After => MLL_var(test, f): -0.5729058969244587\n",
      "After => MLL_cov(test, y): -57.94063600622842\n"
     ]
    },
    {
     "data": {
      "text/plain": [
       "BenchmarkTools.Trial: \n",
       "  memory estimate:  613.75 KiB\n",
       "  allocs estimate:  21483\n",
       "  --------------\n",
       "  minimum time:     11.965 ms (0.00% GC)\n",
       "  median time:      12.199 ms (0.00% GC)\n",
       "  mean time:        12.629 ms (1.17% GC)\n",
       "  maximum time:     32.667 ms (0.00% GC)\n",
       "  --------------\n",
       "  samples:          396\n",
       "  evals/sample:     1"
      ]
     },
     "execution_count": 11,
     "metadata": {},
     "output_type": "execute_result"
    }
   ],
   "source": [
    "k = GPy.kern.RBF(input_dim=1, variance=2.0, lengthscale=10.0)\n",
    "noise_var = 0.001\n",
    "gpy(k, noise_var, reshape(x_train, (length(x_train), 1)), reshape(y_train, (length(y_train), 1)),\n",
    "reshape(x_test, (length(x_test), 1)), reshape(y_test, (length(y_test), 1)))\n",
    "@benchmark gpy(k, noise_var, reshape(x_train, (length(x_train), 1)), reshape(y_train, (length(y_train), 1)),\n",
    "reshape(x_test, (length(x_test), 1)), reshape(y_test, (length(y_test), 1)), print_result=false, opt=false)"
   ]
  },
  {
   "cell_type": "markdown",
   "metadata": {},
   "source": [
    "### 1.2. Standard periodic kernel"
   ]
  },
  {
   "cell_type": "code",
   "execution_count": 12,
   "metadata": {},
   "outputs": [
    {
     "name": "stdout",
     "output_type": "stream",
     "text": [
      "GPForecasting\n",
      "-------------\n",
      "Before => MLL_cov(train): 2778.2568773410835\n",
      "Before => MSE(test): 0.13079765742455027\n",
      "Before => MLL_var(test, f): 760.2721834289244\n",
      "Before => MLL_cov(test, y): 3021.85514135819\n",
      "-------------\n",
      "After => MLL_cov(train): -28.808586064107345\n",
      "After => MSE(test): 0.010108277078175808\n",
      "After => MLL_var(test, f): 0.3649906189726084\n",
      "Aftyer => MLL_cov(test, y): -45.12023648359445\n"
     ]
    },
    {
     "data": {
      "text/plain": [
       "BenchmarkTools.Trial: \n",
       "  memory estimate:  1.73 MiB\n",
       "  allocs estimate:  16144\n",
       "  --------------\n",
       "  minimum time:     934.623 μs (0.00% GC)\n",
       "  median time:      1.037 ms (0.00% GC)\n",
       "  mean time:        1.425 ms (24.52% GC)\n",
       "  maximum time:     7.199 ms (70.31% GC)\n",
       "  --------------\n",
       "  samples:          3497\n",
       "  evals/sample:     1"
      ]
     },
     "execution_count": 12,
     "metadata": {},
     "output_type": "execute_result"
    }
   ],
   "source": [
    "k = NoiseKernel(2.0 * periodicise(EQ() ▷ 10.0, 2π), 0.001 * DiagonalKernel())\n",
    "m = ZeroMean()\n",
    "gpforecasting(m, k, x_train, y_train, x_test, y_test)\n",
    "@benchmark gpforecasting(m, k, x_train, y_train, x_test, y_test, print_result=false, opt=false)"
   ]
  },
  {
   "cell_type": "code",
   "execution_count": 13,
   "metadata": {},
   "outputs": [
    {
     "name": "stdout",
     "output_type": "stream",
     "text": [
      "GaussianProcesses\n",
      "-----------------\n",
      "Before => MLL_cov(train): 2781.067999039825\n",
      "Before => MSE(test): 0.13080137978135378\n",
      "Before => MLL_var(test, f): 760.9553814833481\n",
      "Before => MLL_cov(test, y): 3021.956394744089\n",
      "-----------------\n",
      "After => MLL_cov(train): -28.808587160781165\n",
      "After => MSE(test): 0.01010866495058404\n",
      "After => MLL_var(test, f) after: 0.3648342632338637\n",
      "After => MLL_cov(test, y) after: -45.11967967384456\n"
     ]
    },
    {
     "data": {
      "text/plain": [
       "BenchmarkTools.Trial: \n",
       "  memory estimate:  359.36 KiB\n",
       "  allocs estimate:  1092\n",
       "  --------------\n",
       "  minimum time:     742.127 μs (0.00% GC)\n",
       "  median time:      797.971 μs (0.00% GC)\n",
       "  mean time:        876.749 μs (6.90% GC)\n",
       "  maximum time:     5.199 ms (77.77% GC)\n",
       "  --------------\n",
       "  samples:          5672\n",
       "  evals/sample:     1"
      ]
     },
     "execution_count": 13,
     "metadata": {},
     "output_type": "execute_result"
    }
   ],
   "source": [
    "k = Periodic(log(10.0), log(sqrt(2.0)), log(2π))\n",
    "m = MeanZero()\n",
    "logNoise = log(sqrt(0.001))\n",
    "gaussianprocesses(m, k, logNoise, x_train, y_train, x_test, y_test)\n",
    "@benchmark gaussianprocesses(m, k, logNoise, x_train, y_train, x_test, y_test, print_result=false, opt=false)"
   ]
  },
  {
   "cell_type": "code",
   "execution_count": 25,
   "metadata": {},
   "outputs": [
    {
     "name": "stdout",
     "output_type": "stream",
     "text": [
      "GPy\n",
      "---\n",
      "Before => MLL_cov(train): 2890.2312291334088\n",
      "Before => MSE(test): 0.12531242054651615\n",
      "Before => MLL_var(test, f): 973.2272382866464\n",
      "Before => MLL_cov(test, y): 2981.772001725934\n",
      "---\n",
      "After => MLL_cov(train): 6.8792682396340314\n",
      "After => MSE(test): 0.028511919017709032\n",
      "After => MLL_var(test, f): 0.3445370710768054\n",
      "After => MLL_cov(test, y): -8.529002686282148\n"
     ]
    },
    {
     "data": {
      "text/plain": [
       "BenchmarkTools.Trial: \n",
       "  memory estimate:  613.75 KiB\n",
       "  allocs estimate:  21483\n",
       "  --------------\n",
       "  minimum time:     11.933 ms (0.00% GC)\n",
       "  median time:      12.191 ms (0.00% GC)\n",
       "  mean time:        12.499 ms (1.48% GC)\n",
       "  maximum time:     20.052 ms (35.43% GC)\n",
       "  --------------\n",
       "  samples:          401\n",
       "  evals/sample:     1"
      ]
     },
     "execution_count": 25,
     "metadata": {},
     "output_type": "execute_result"
    }
   ],
   "source": [
    "k = GPy.kern.StdPeriodic(input_dim=1, variance=2.0, lengthscale=10.0, period=2π)\n",
    "noise_var = 0.001\n",
    "gpy(k, noise_var, reshape(x_train, (length(x_train), 1)), reshape(y_train, (length(y_train), 1)),\n",
    "reshape(x_test, (length(x_test), 1)), reshape(y_test, (length(y_test), 1)))\n",
    "@benchmark gpy(k, noise_var, reshape(x_train, (length(x_train), 1)), reshape(y_train, (length(y_train), 1)),\n",
    "reshape(x_test, (length(x_test), 1)), reshape(y_test, (length(y_test), 1)), print_result=false, opt=false)"
   ]
  },
  {
   "cell_type": "markdown",
   "metadata": {},
   "source": [
    "### 1.3. Rational quadratic kernel"
   ]
  },
  {
   "cell_type": "code",
   "execution_count": 15,
   "metadata": {},
   "outputs": [
    {
     "name": "stdout",
     "output_type": "stream",
     "text": [
      "GPForecasting\n",
      "-------------\n",
      "Before => MLL_cov(train): 2491.876499557334\n",
      "Before => MSE(test): 0.12226859947646133\n",
      "Before => MLL_var(test, f): 771.9774842426579\n",
      "Before => MLL_cov(test, y): 2880.4369702043728\n",
      "-------------\n",
      "After => MLL_cov(train): -31.359431327439474\n",
      "After => MSE(test): 0.006339625546752299\n",
      "After => MLL_var(test, f): -0.5728913634245152\n",
      "Aftyer => MLL_cov(test, y): -57.94114980835164\n"
     ]
    },
    {
     "data": {
      "text/plain": [
       "BenchmarkTools.Trial: \n",
       "  memory estimate:  1.69 MiB\n",
       "  allocs estimate:  15868\n",
       "  --------------\n",
       "  minimum time:     1.088 ms (0.00% GC)\n",
       "  median time:      1.255 ms (0.00% GC)\n",
       "  mean time:        1.677 ms (21.39% GC)\n",
       "  maximum time:     7.869 ms (75.64% GC)\n",
       "  --------------\n",
       "  samples:          2970\n",
       "  evals/sample:     1"
      ]
     },
     "execution_count": 15,
     "metadata": {},
     "output_type": "execute_result"
    }
   ],
   "source": [
    "k = NoiseKernel(2.0 * GPForecasting.RQ(2.0) ▷ 5.0, 0.001 * DiagonalKernel())\n",
    "m = ZeroMean()\n",
    "gpforecasting(m, k, x_train, y_train, x_test, y_test)\n",
    "@benchmark gpforecasting(m, k, x_train, y_train, x_test, y_test, print_result=false, opt=false)"
   ]
  },
  {
   "cell_type": "code",
   "execution_count": 16,
   "metadata": {},
   "outputs": [
    {
     "name": "stdout",
     "output_type": "stream",
     "text": [
      "GaussianProcesses\n",
      "-----------------\n",
      "Before => MLL_cov(train): 2494.2092851510424\n",
      "Before => MSE(test): 0.12227096361627385\n",
      "Before => MLL_var(test, f): 772.7003788248147\n",
      "Before => MLL_cov(test, y): 2880.4871925198668\n",
      "-----------------\n",
      "After => MLL_cov(train): -31.359431228470633\n",
      "After => MSE(test): 0.006339596733726229\n",
      "After => MLL_var(test, f) after: -0.5729204923449185\n",
      "After => MLL_cov(test, y) after: -57.940598476025116\n"
     ]
    },
    {
     "data": {
      "text/plain": [
       "BenchmarkTools.Trial: \n",
       "  memory estimate:  359.36 KiB\n",
       "  allocs estimate:  1092\n",
       "  --------------\n",
       "  minimum time:     761.845 μs (0.00% GC)\n",
       "  median time:      852.425 μs (0.00% GC)\n",
       "  mean time:        954.531 μs (6.77% GC)\n",
       "  maximum time:     5.638 ms (78.96% GC)\n",
       "  --------------\n",
       "  samples:          5207\n",
       "  evals/sample:     1"
      ]
     },
     "execution_count": 16,
     "metadata": {},
     "output_type": "execute_result"
    }
   ],
   "source": [
    "k = GaussianProcesses.RQIso(log(5.0), log(sqrt(2.0)), log(2.0))\n",
    "m = MeanZero()\n",
    "logNoise = log(sqrt(0.001))\n",
    "gaussianprocesses(m, k, logNoise, x_train, y_train, x_test, y_test)\n",
    "@benchmark gaussianprocesses(m, k, logNoise, x_train, y_train, x_test, y_test, print_result=false, opt=false)"
   ]
  },
  {
   "cell_type": "code",
   "execution_count": 17,
   "metadata": {},
   "outputs": [
    {
     "name": "stdout",
     "output_type": "stream",
     "text": [
      "GPy\n",
      "---\n",
      "Before => MLL_cov(train): 2039.8173847552514\n",
      "Before => MSE(test): 0.11002642210716784\n",
      "Before => MLL_var(test, f): 535.4312750107787\n",
      "Before => MLL_cov(test, y): 2231.446306080221\n",
      "---\n",
      "After => MLL_cov(train): -31.35941015524378\n",
      "After => MSE(test): 0.006339556891899399\n",
      "After => MLL_var(test, f): -0.5728882631466432\n",
      "After => MLL_cov(test, y): -57.94062702287771\n"
     ]
    },
    {
     "data": {
      "text/plain": [
       "BenchmarkTools.Trial: \n",
       "  memory estimate:  613.75 KiB\n",
       "  allocs estimate:  21483\n",
       "  --------------\n",
       "  minimum time:     12.591 ms (0.00% GC)\n",
       "  median time:      12.848 ms (0.00% GC)\n",
       "  mean time:        13.149 ms (1.25% GC)\n",
       "  maximum time:     20.387 ms (30.94% GC)\n",
       "  --------------\n",
       "  samples:          381\n",
       "  evals/sample:     1"
      ]
     },
     "execution_count": 17,
     "metadata": {},
     "output_type": "execute_result"
    }
   ],
   "source": [
    "k = GPy.kern.RatQuad(input_dim=1, variance=2.0, lengthscale=5.0, power=2.0)\n",
    "noise_var = 0.001\n",
    "gpy(k, noise_var, reshape(x_train, (length(x_train), 1)), reshape(y_train, (length(y_train), 1)),\n",
    "reshape(x_test, (length(x_test), 1)), reshape(y_test, (length(y_test), 1)))\n",
    "@benchmark gpy(k, noise_var, reshape(x_train, (length(x_train), 1)), reshape(y_train, (length(y_train), 1)),\n",
    "reshape(x_test, (length(x_test), 1)), reshape(y_test, (length(y_test), 1)), print_result=false, opt=false)"
   ]
  },
  {
   "cell_type": "markdown",
   "metadata": {},
   "source": [
    "### 1.4. Mattern 5/2 kernel"
   ]
  },
  {
   "cell_type": "code",
   "execution_count": 18,
   "metadata": {},
   "outputs": [
    {
     "name": "stdout",
     "output_type": "stream",
     "text": [
      "GPForecasting\n",
      "-------------\n",
      "Before => MLL_cov(train): 2556.159032671505\n",
      "Before => MSE(test): 0.11075488248840884\n",
      "Before => MLL_var(test, f): 625.1263034476407\n",
      "Before => MLL_cov(test, y): 2337.0599977777874\n",
      "-------------\n",
      "After => MLL_cov(train): -28.755471135797887\n",
      "After => MSE(test): 0.005838031744599887\n",
      "After => MLL_var(test, f): -0.8934805590282198\n",
      "Aftyer => MLL_cov(test, y): -56.414629998655\n"
     ]
    },
    {
     "data": {
      "text/plain": [
       "BenchmarkTools.Trial: \n",
       "  memory estimate:  2.15 MiB\n",
       "  allocs estimate:  15880\n",
       "  --------------\n",
       "  minimum time:     925.325 μs (0.00% GC)\n",
       "  median time:      1.054 ms (0.00% GC)\n",
       "  mean time:        1.526 ms (30.76% GC)\n",
       "  maximum time:     7.082 ms (79.14% GC)\n",
       "  --------------\n",
       "  samples:          3267\n",
       "  evals/sample:     1"
      ]
     },
     "execution_count": 18,
     "metadata": {},
     "output_type": "execute_result"
    }
   ],
   "source": [
    "k = NoiseKernel(2.0 * MA(5/2) ▷ 10.0, 0.001 * DiagonalKernel())\n",
    "m = ConstantMean(0.0)\n",
    "gpforecasting(m, k, x_train, y_train, x_test, y_test)\n",
    "@benchmark gpforecasting(m, k, x_train, y_train, x_test, y_test, print_result=false, opt=false)"
   ]
  },
  {
   "cell_type": "code",
   "execution_count": 19,
   "metadata": {},
   "outputs": [
    {
     "name": "stdout",
     "output_type": "stream",
     "text": [
      "GaussianProcesses\n",
      "-----------------\n",
      "Before => MLL_cov(train): 2558.3621232306436\n",
      "Before => MSE(test): 0.11074141340154292\n",
      "Before => MLL_var(test, f): 625.5639745229428\n",
      "Before => MLL_cov(test, y): 2336.7710024989365\n",
      "-----------------\n",
      "After => MLL_cov(train): -28.755471135633094\n",
      "After => MSE(test): 0.005838029243976166\n",
      "After => MLL_var(test, f) after: -0.8934811076285538\n",
      "After => MLL_cov(test, y) after: -56.41427396434535\n"
     ]
    },
    {
     "data": {
      "text/plain": [
       "BenchmarkTools.Trial: \n",
       "  memory estimate:  359.23 KiB\n",
       "  allocs estimate:  1087\n",
       "  --------------\n",
       "  minimum time:     431.911 μs (0.00% GC)\n",
       "  median time:      475.841 μs (0.00% GC)\n",
       "  mean time:        550.778 μs (12.28% GC)\n",
       "  maximum time:     5.621 ms (91.35% GC)\n",
       "  --------------\n",
       "  samples:          9006\n",
       "  evals/sample:     1"
      ]
     },
     "execution_count": 19,
     "metadata": {},
     "output_type": "execute_result"
    }
   ],
   "source": [
    "k = Mat52Iso(log(10.0), log(sqrt(2.0)))\n",
    "m = MeanZero()\n",
    "logNoise = log(sqrt(0.001))\n",
    "gaussianprocesses(m, k, logNoise, x_train, y_train, x_test, y_test)\n",
    "@benchmark gaussianprocesses(m, k, logNoise, x_train, y_train, x_test, y_test, print_result=false, opt=false)"
   ]
  },
  {
   "cell_type": "code",
   "execution_count": 20,
   "metadata": {},
   "outputs": [
    {
     "name": "stdout",
     "output_type": "stream",
     "text": [
      "GPy\n",
      "---\n",
      "Before => MLL_cov(train): 2558.3400729079895\n",
      "Before => MSE(test): 0.11074154820919034\n",
      "Before => MLL_var(test, f): 625.5595945179847\n",
      "Before => MLL_cov(test, y): 2336.7738949917907\n",
      "---\n",
      "After => MLL_cov(train): -28.7554711357821\n",
      "After => MSE(test): 0.005838031403802246\n",
      "After => MLL_var(test, f): -0.893480839048405\n",
      "After => MLL_cov(test, y): -56.41427771607259\n"
     ]
    },
    {
     "data": {
      "text/plain": [
       "BenchmarkTools.Trial: \n",
       "  memory estimate:  613.75 KiB\n",
       "  allocs estimate:  21483\n",
       "  --------------\n",
       "  minimum time:     12.076 ms (0.00% GC)\n",
       "  median time:      12.460 ms (0.00% GC)\n",
       "  mean time:        13.173 ms (1.33% GC)\n",
       "  maximum time:     22.411 ms (29.93% GC)\n",
       "  --------------\n",
       "  samples:          380\n",
       "  evals/sample:     1"
      ]
     },
     "execution_count": 20,
     "metadata": {},
     "output_type": "execute_result"
    }
   ],
   "source": [
    "k = GPy.kern.Matern52(input_dim=1, variance=2.0, lengthscale=10.0)\n",
    "noise_var = 0.001\n",
    "gpy(k, noise_var, reshape(x_train, (length(x_train), 1)), reshape(y_train, (length(y_train), 1)),\n",
    "reshape(x_test, (length(x_test), 1)), reshape(y_test, (length(y_test), 1)))\n",
    "@benchmark gpy(k, noise_var, reshape(x_train, (length(x_train), 1)), reshape(y_train, (length(y_train), 1)),\n",
    "reshape(x_test, (length(x_test), 1)), reshape(y_test, (length(y_test), 1)), print_result=false, opt=false)"
   ]
  },
  {
   "cell_type": "markdown",
   "metadata": {},
   "source": [
    "### 1.5. Mixed kernel"
   ]
  },
  {
   "cell_type": "code",
   "execution_count": 21,
   "metadata": {},
   "outputs": [
    {
     "name": "stdout",
     "output_type": "stream",
     "text": [
      "GPForecasting\n",
      "-------------\n",
      "Before => MLL_cov(train): 2011.7433463645914\n",
      "Before => MSE(test): 0.10434757275194265\n",
      "Before => MLL_var(test, f): 514.815138737102\n",
      "Before => MLL_cov(test, y): 2065.663581831527\n",
      "-------------\n",
      "After => MLL_cov(train): -36.93919046063505\n",
      "After => MSE(test): 0.005521044170657068\n",
      "After => MLL_var(test, f): -0.21247785163171296\n",
      "Aftyer => MLL_cov(test, y): -60.413218850085556\n"
     ]
    },
    {
     "data": {
      "text/plain": [
       "BenchmarkTools.Trial: \n",
       "  memory estimate:  3.64 MiB\n",
       "  allocs estimate:  16738\n",
       "  --------------\n",
       "  minimum time:     1.827 ms (0.00% GC)\n",
       "  median time:      2.018 ms (0.00% GC)\n",
       "  mean time:        2.840 ms (28.20% GC)\n",
       "  maximum time:     8.763 ms (63.80% GC)\n",
       "  --------------\n",
       "  samples:          1758\n",
       "  evals/sample:     1"
      ]
     },
     "execution_count": 21,
     "metadata": {},
     "output_type": "execute_result"
    }
   ],
   "source": [
    "k1 = EQ() ▷ 10.0\n",
    "k2 = periodicise(EQ() ▷ 10.0, 2π)\n",
    "k3 = GPForecasting.RQ(2.0) ▷ 10.0\n",
    "k4 = MA(5/2) ▷ 10.0\n",
    "k = NoiseKernel(2.0 * (k1 + k2 * k3) + k4, 0.001 * DiagonalKernel())\n",
    "m = ZeroMean()\n",
    "gpforecasting(m, k, x_train, y_train, x_test, y_test)\n",
    "@benchmark gpforecasting(m, k, x_train, y_train, x_test, y_test, print_result=false, opt=false)"
   ]
  },
  {
   "cell_type": "code",
   "execution_count": 22,
   "metadata": {},
   "outputs": [
    {
     "name": "stdout",
     "output_type": "stream",
     "text": [
      "GaussianProcesses\n",
      "-----------------\n",
      "Before => MLL_cov(train): 2013.5208296831067\n",
      "Before => MSE(test): 0.10432954414880101\n",
      "Before => MLL_var(test, f): 515.1802436470141\n",
      "Before => MLL_cov(test, y): 2065.35969305844\n",
      "-----------------\n",
      "After => MLL_cov(train): -32.53201895418004\n",
      "After => MSE(test): 0.006164229768577374\n",
      "After => MLL_var(test, f) after: -0.4528893378885508\n",
      "After => MLL_cov(test, y) after: -59.18062065053402\n"
     ]
    },
    {
     "data": {
      "text/plain": [
       "BenchmarkTools.Trial: \n",
       "  memory estimate:  2.11 MiB\n",
       "  allocs estimate:  36158\n",
       "  --------------\n",
       "  minimum time:     6.073 ms (0.00% GC)\n",
       "  median time:      6.243 ms (0.00% GC)\n",
       "  mean time:        6.865 ms (8.30% GC)\n",
       "  maximum time:     15.673 ms (47.40% GC)\n",
       "  --------------\n",
       "  samples:          728\n",
       "  evals/sample:     1"
      ]
     },
     "execution_count": 22,
     "metadata": {},
     "output_type": "execute_result"
    }
   ],
   "source": [
    "k1 = fix(SEIso(log(10.0), log(sqrt(1.0))), :lσ)\n",
    "k2 = fix(Periodic(log(10.0), log(sqrt(1.0)), log(2π)), :lσ)\n",
    "k3 = fix(GaussianProcesses.RQIso(log(10.0), log(sqrt(1.0)), log(2.0)), :lσ)\n",
    "k4 = fix(Mat52Iso(log(10.0), log(sqrt(1.0))), :lσ)\n",
    "k = Const(log(sqrt(2.0))) * (k1 + k2 * k3) + k4\n",
    "m = MeanZero()\n",
    "logNoise = log(sqrt(0.001))\n",
    "gaussianprocesses(m, k, logNoise, x_train, y_train, x_test, y_test)\n",
    "@benchmark gaussianprocesses(m, k, logNoise, x_train, y_train, x_test, y_test, print_result=false, opt=false)"
   ]
  },
  {
   "cell_type": "code",
   "execution_count": 26,
   "metadata": {},
   "outputs": [
    {
     "name": "stdout",
     "output_type": "stream",
     "text": [
      "GPy\n",
      "---\n",
      "Before => MLL_cov(train): 2249.8190982185083\n",
      "Before => MSE(test): 0.11628337862057529\n",
      "Before => MLL_var(test, f): 632.2348583879655\n",
      "Before => MLL_cov(test, y): 2505.5798844922924\n",
      "---\n",
      "After => MLL_cov(train): -32.53202100958151\n",
      "After => MSE(test): 0.006163553199038626\n",
      "After => MLL_var(test, f): -0.4528906194516189\n",
      "After => MLL_cov(test, y): -59.18111658414189\n"
     ]
    },
    {
     "data": {
      "text/plain": [
       "BenchmarkTools.Trial: \n",
       "  memory estimate:  613.75 KiB\n",
       "  allocs estimate:  21483\n",
       "  --------------\n",
       "  minimum time:     25.599 ms (0.00% GC)\n",
       "  median time:      26.121 ms (0.00% GC)\n",
       "  mean time:        27.177 ms (0.70% GC)\n",
       "  maximum time:     38.327 ms (19.83% GC)\n",
       "  --------------\n",
       "  samples:          185\n",
       "  evals/sample:     1"
      ]
     },
     "execution_count": 26,
     "metadata": {},
     "output_type": "execute_result"
    }
   ],
   "source": [
    "k1 = GPy.kern.RBF(input_dim=1, variance=1.0, lengthscale=10.0)\n",
    "k1.\"variance\".fix()\n",
    "k2 = GPy.kern.StdPeriodic(input_dim=1, variance=1.0, lengthscale=10.0, period=2π)\n",
    "k2.\"variance\".fix()\n",
    "k3 = GPy.kern.RatQuad(input_dim=1, variance=1.0, lengthscale=10.0, power=2.0)\n",
    "k3.\"variance\".fix()\n",
    "k4 = GPy.kern.Matern52(input_dim=1, variance=1.0, lengthscale=10.0)\n",
    "k4.\"variance\".fix()\n",
    "k = GPy.kern.Bias(input_dim=1, variance=2.0) * (k1 + k2 * k3) + k4\n",
    "noise_var = 0.001\n",
    "gpy(k, noise_var, reshape(x_train, (length(x_train), 1)), reshape(y_train, (length(y_train), 1)),\n",
    "reshape(x_test, (length(x_test), 1)), reshape(y_test, (length(y_test), 1)))\n",
    "@benchmark gpy(k, noise_var, reshape(x_train, (length(x_train), 1)), reshape(y_train, (length(y_train), 1)),\n",
    "reshape(x_test, (length(x_test), 1)), reshape(y_test, (length(y_test), 1)), print_result=false, opt=false)"
   ]
  },
  {
   "cell_type": "markdown",
   "metadata": {},
   "source": [
    "## 2. Multidimensional input problems"
   ]
  },
  {
   "cell_type": "code",
   "execution_count": 27,
   "metadata": {},
   "outputs": [],
   "source": [
    "seed!(314159265)                                                                     \n",
    "n = 100                                                                              \n",
    "d = 3                                                                                \n",
    "s = collect(1.0:1.0:d)                                                               \n",
    "f_Md(x) = prod(sin.(x .* s'), dims=2)[:] + 0.1 * rand(n)                             \n",
    "x_train = 2pi .* rand(n, d)      \n",
    "x_test = 2pi .* rand(n, d)\n",
    "y_train = f_Md(x_train)\n",
    "y_test = f_Md(x_test)\n",
    ";"
   ]
  },
  {
   "cell_type": "markdown",
   "metadata": {},
   "source": [
    "### 2.1. Squared exponential kernel"
   ]
  },
  {
   "cell_type": "code",
   "execution_count": 28,
   "metadata": {},
   "outputs": [
    {
     "name": "stdout",
     "output_type": "stream",
     "text": [
      "GPForecasting\n",
      "-------------\n",
      "Before => MLL_cov(train): 1276.191287482529\n",
      "Before => MSE(test): 0.4071110749424119\n",
      "Before => MLL_var(test, f): 45.884759655685286\n",
      "Before => MLL_cov(test, y): 4419.245955870601\n",
      "-------------\n",
      "After => MLL_cov(train): 27.81058036431854\n",
      "After => MSE(test): 0.09809995063117481\n",
      "After => MLL_var(test, f): 0.22530959375093262\n",
      "Aftyer => MLL_cov(test, y): 18.396578851654084\n"
     ]
    },
    {
     "data": {
      "text/plain": [
       "BenchmarkTools.Trial: \n",
       "  memory estimate:  7.12 MiB\n",
       "  allocs estimate:  61327\n",
       "  --------------\n",
       "  minimum time:     5.394 ms (0.00% GC)\n",
       "  median time:      6.084 ms (0.00% GC)\n",
       "  mean time:        8.032 ms (25.18% GC)\n",
       "  maximum time:     14.913 ms (49.85% GC)\n",
       "  --------------\n",
       "  samples:          622\n",
       "  evals/sample:     1"
      ]
     },
     "execution_count": 28,
     "metadata": {},
     "output_type": "execute_result"
    }
   ],
   "source": [
    "k = NoiseKernel(1.0 * (EQ() ▷ [2.0 for i=1:d]), 0.001 * DiagonalKernel())\n",
    "m = ZeroMean()\n",
    "gpforecasting(m, k, x_train, y_train, x_test, y_test)\n",
    "@benchmark gpforecasting(m, k, x_train, y_train, x_test, y_test, print_result=false, opt=false)"
   ]
  },
  {
   "cell_type": "code",
   "execution_count": 29,
   "metadata": {},
   "outputs": [
    {
     "name": "stdout",
     "output_type": "stream",
     "text": [
      "GaussianProcesses\n",
      "-----------------\n",
      "Before => MLL_cov(train): 1276.965877443792\n",
      "Before => MSE(test): 0.4072840523764735\n",
      "Before => MLL_var(test, f): 45.91742408278396\n",
      "Before => MLL_cov(test, y): 4420.701235673641\n",
      "-----------------\n",
      "After => MLL_cov(train): 27.810561094145072\n",
      "After => MSE(test): 0.09810226298497927\n",
      "After => MLL_var(test, f) after: 0.22531958433643018\n",
      "After => MLL_cov(test, y) after: 18.398221464454195\n"
     ]
    },
    {
     "data": {
      "text/plain": [
       "BenchmarkTools.Trial: \n",
       "  memory estimate:  2.16 MiB\n",
       "  allocs estimate:  4131\n",
       "  --------------\n",
       "  minimum time:     2.594 ms (0.00% GC)\n",
       "  median time:      3.446 ms (0.00% GC)\n",
       "  mean time:        4.004 ms (13.66% GC)\n",
       "  maximum time:     10.643 ms (61.74% GC)\n",
       "  --------------\n",
       "  samples:          1246\n",
       "  evals/sample:     1"
      ]
     },
     "execution_count": 29,
     "metadata": {},
     "output_type": "execute_result"
    }
   ],
   "source": [
    "k = SEArd(log.([2.0 for i=1:d]), log(sqrt(1.0)))\n",
    "m = MeanZero()\n",
    "logNoise = log(sqrt(0.001))\n",
    "gaussianprocesses(m, k, logNoise, x_train', y_train, x_test', y_test)\n",
    "@benchmark gaussianprocesses(m, k, logNoise, x_train', y_train, x_test', y_test, print_result=false, opt=false)"
   ]
  },
  {
   "cell_type": "code",
   "execution_count": 30,
   "metadata": {},
   "outputs": [
    {
     "name": "stdout",
     "output_type": "stream",
     "text": [
      "GPy\n",
      "---\n",
      "Before => MLL_cov(train): 1276.9581261044007\n",
      "Before => MSE(test): 0.4072823214890315\n",
      "Before => MLL_var(test, f): 45.91709718755408\n",
      "Before => MLL_cov(test, y): 4420.686673190201\n",
      "---\n",
      "After => MLL_cov(train): 27.8105609721553\n",
      "After => MSE(test): 0.09810350098016432\n",
      "After => MLL_var(test, f): 0.22532671776614194\n",
      "After => MLL_cov(test, y): 18.399268719614085\n"
     ]
    },
    {
     "data": {
      "text/plain": [
       "BenchmarkTools.Trial: \n",
       "  memory estimate:  2.29 MiB\n",
       "  allocs estimate:  82678\n",
       "  --------------\n",
       "  minimum time:     31.116 ms (0.00% GC)\n",
       "  median time:      33.522 ms (0.00% GC)\n",
       "  mean time:        34.779 ms (2.03% GC)\n",
       "  maximum time:     48.007 ms (13.91% GC)\n",
       "  --------------\n",
       "  samples:          144\n",
       "  evals/sample:     1"
      ]
     },
     "execution_count": 30,
     "metadata": {},
     "output_type": "execute_result"
    }
   ],
   "source": [
    "k = GPy.kern.RBF(input_dim=d, variance=1.0, ARD=true, lengthscale=[2.0 for i=1:d])\n",
    "noise_var = 0.001\n",
    "gpy(k, noise_var, x_train, reshape(y_train, (length(y_train), 1)),\n",
    "x_test, reshape(y_test, (length(y_test), 1)))\n",
    "@benchmark gpy(k, noise_var, x_train, reshape(y_train, (length(y_train), 1)),\n",
    "x_test, reshape(y_test, (length(y_test), 1)), print_result=false, opt=false)"
   ]
  },
  {
   "cell_type": "markdown",
   "metadata": {},
   "source": [
    "### 2.2. Standard periodic kernel (not implemented in GaussianProcesses )"
   ]
  },
  {
   "cell_type": "code",
   "execution_count": 31,
   "metadata": {},
   "outputs": [
    {
     "name": "stdout",
     "output_type": "stream",
     "text": [
      "GPForecasting\n",
      "-------------\n",
      "Before => MLL_cov(train): 3379.8734617736277\n",
      "Before => MSE(test): 0.15109565238928888\n",
      "Before => MLL_var(test, f): 144.4562307160178\n",
      "Before => MLL_cov(test, y): 5304.246158359595\n",
      "-------------\n",
      "After => MLL_cov(train): 34.36332033669985\n",
      "After => MSE(test): 0.12005882786041555\n",
      "After => MLL_var(test, f): 29.256882478772546\n",
      "Aftyer => MLL_cov(test, y): 36.582892470865325\n"
     ]
    },
    {
     "data": {
      "text/plain": [
       "BenchmarkTools.Trial: \n",
       "  memory estimate:  7.31 MiB\n",
       "  allocs estimate:  61567\n",
       "  --------------\n",
       "  minimum time:     5.396 ms (0.00% GC)\n",
       "  median time:      6.375 ms (0.00% GC)\n",
       "  mean time:        8.292 ms (25.93% GC)\n",
       "  maximum time:     14.900 ms (45.76% GC)\n",
       "  --------------\n",
       "  samples:          603\n",
       "  evals/sample:     1"
      ]
     },
     "execution_count": 31,
     "metadata": {},
     "output_type": "execute_result"
    }
   ],
   "source": [
    "k = NoiseKernel(2.0 * periodicise(EQ() ▷ [5.0 for i=1:d], [2π for i=1:d]), 0.001 * DiagonalKernel())\n",
    "m = ZeroMean()\n",
    "gpforecasting(m, k, x_train, y_train, x_test, y_test)\n",
    "@benchmark gpforecasting(m, k, x_train, y_train, x_test, y_test, print_result=false, opt=false)"
   ]
  },
  {
   "cell_type": "code",
   "execution_count": 33,
   "metadata": {},
   "outputs": [
    {
     "name": "stdout",
     "output_type": "stream",
     "text": [
      "GPy\n",
      "---\n",
      "Before => MLL_cov(train): 4146.115608870026\n",
      "Before => MSE(test): 0.13734145079774088\n",
      "Before => MLL_var(test, f): 283.10978364091284\n",
      "Before => MLL_cov(test, y): 5575.602738375718\n",
      "---\n",
      "After => MLL_cov(train): 34.38181803151828\n",
      "After => MSE(test): 0.11992910741051521\n",
      "After => MLL_var(test, f): 34.85096435475269\n",
      "After => MLL_cov(test, y): 36.38247496900728\n"
     ]
    },
    {
     "data": {
      "text/plain": [
       "BenchmarkTools.Trial: \n",
       "  memory estimate:  2.29 MiB\n",
       "  allocs estimate:  82678\n",
       "  --------------\n",
       "  minimum time:     33.942 ms (0.00% GC)\n",
       "  median time:      35.422 ms (0.00% GC)\n",
       "  mean time:        36.691 ms (1.94% GC)\n",
       "  maximum time:     47.563 ms (15.78% GC)\n",
       "  --------------\n",
       "  samples:          137\n",
       "  evals/sample:     1"
      ]
     },
     "execution_count": 33,
     "metadata": {},
     "output_type": "execute_result"
    }
   ],
   "source": [
    "k = GPy.kern.StdPeriodic(input_dim=d, variance=2.0, lengthscale=[5.0 for i=1:d], period=[2π for i=1:d], ARD1=true, ARD2=true)\n",
    "noise_var = 0.001\n",
    "gpy(k, noise_var, x_train, reshape(y_train, (length(y_train), 1)),\n",
    "x_test, reshape(y_test, (length(y_test), 1)))\n",
    "@benchmark gpy(k, noise_var, x_train, reshape(y_train, (length(y_train), 1)),\n",
    "x_test, reshape(y_test, (length(y_test), 1)), print_result=false, opt=false)"
   ]
  },
  {
   "cell_type": "markdown",
   "metadata": {},
   "source": [
    "### 2.3. Rational quadratic kernel"
   ]
  },
  {
   "cell_type": "code",
   "execution_count": 34,
   "metadata": {},
   "outputs": [
    {
     "name": "stdout",
     "output_type": "stream",
     "text": [
      "GPForecasting\n",
      "-------------\n",
      "Before => MLL_cov(train): 300.0782662907241\n",
      "Before => MSE(test): 0.45069841363296925\n",
      "Before => MLL_var(test, f): 8.10416742783544\n",
      "Before => MLL_cov(test, y): 1174.4605087920281\n",
      "-------------\n",
      "After => MLL_cov(train): 28.972434450264238\n",
      "After => MSE(test): 0.10054178097161147\n",
      "After => MLL_var(test, f): 0.24119368608041608\n",
      "Aftyer => MLL_cov(test, y): 20.976406720435826\n"
     ]
    },
    {
     "data": {
      "text/plain": [
       "BenchmarkTools.Trial: \n",
       "  memory estimate:  7.12 MiB\n",
       "  allocs estimate:  61387\n",
       "  --------------\n",
       "  minimum time:     6.275 ms (0.00% GC)\n",
       "  median time:      7.223 ms (0.00% GC)\n",
       "  mean time:        9.093 ms (22.94% GC)\n",
       "  maximum time:     15.859 ms (44.96% GC)\n",
       "  --------------\n",
       "  samples:          549\n",
       "  evals/sample:     1"
      ]
     },
     "execution_count": 34,
     "metadata": {},
     "output_type": "execute_result"
    }
   ],
   "source": [
    "k = NoiseKernel(2.0 * (GPForecasting.RQ(Fixed(2.0)) ▷ [2.0 for i=1:d]), 0.001 * DiagonalKernel())\n",
    "m = ZeroMean()\n",
    "gpforecasting(m, k, x_train, y_train, x_test, y_test)\n",
    "@benchmark gpforecasting(m, k, x_train, y_train, x_test, y_test, print_result=false, opt=false)"
   ]
  },
  {
   "cell_type": "code",
   "execution_count": 35,
   "metadata": {},
   "outputs": [
    {
     "name": "stdout",
     "output_type": "stream",
     "text": [
      "GaussianProcesses\n",
      "-----------------\n",
      "Before => MLL_cov(train): 300.1572454511439\n",
      "Before => MSE(test): 0.4507881156857738\n",
      "Before => MLL_var(test, f): 8.106859242015442\n",
      "Before => MLL_cov(test, y): 1174.7332322552386\n",
      "-----------------\n",
      "After => MLL_cov(train): 28.972380333955606\n",
      "After => MSE(test): 0.10054441929487325\n",
      "After => MLL_var(test, f) after: 0.24121140115477602\n",
      "After => MLL_cov(test, y) after: 20.978591875637335\n"
     ]
    },
    {
     "data": {
      "text/plain": [
       "BenchmarkTools.Trial: \n",
       "  memory estimate:  2.16 MiB\n",
       "  allocs estimate:  4130\n",
       "  --------------\n",
       "  minimum time:     3.086 ms (0.00% GC)\n",
       "  median time:      4.049 ms (0.00% GC)\n",
       "  mean time:        4.690 ms (12.31% GC)\n",
       "  maximum time:     11.884 ms (54.96% GC)\n",
       "  --------------\n",
       "  samples:          1064\n",
       "  evals/sample:     1"
      ]
     },
     "execution_count": 35,
     "metadata": {},
     "output_type": "execute_result"
    }
   ],
   "source": [
    "k = fix(GaussianProcesses.RQArd(log.([2.0 for i=1:d]), log(sqrt(2.0)), log(2.0)), :lα)\n",
    "m = MeanZero()\n",
    "logNoise = log(sqrt(0.001))\n",
    "gaussianprocesses(m, k, logNoise, x_train', y_train, x_test', y_test)\n",
    "@benchmark gaussianprocesses(m, k, logNoise, x_train', y_train, x_test', y_test, print_result=false, opt=false)"
   ]
  },
  {
   "cell_type": "code",
   "execution_count": 36,
   "metadata": {},
   "outputs": [
    {
     "name": "stdout",
     "output_type": "stream",
     "text": [
      "GPy\n",
      "---\n",
      "Before => MLL_cov(train): 105.47566718275176\n",
      "Before => MSE(test): 0.3033706362566648\n",
      "Before => MLL_var(test, f): 1.013819924867406\n",
      "Before => MLL_cov(test, y): 118.02481512045507\n",
      "---\n",
      "After => MLL_cov(train): 28.972380046023126\n",
      "After => MSE(test): 0.1005416232586522\n",
      "After => MLL_var(test, f): 0.2411928166652953\n",
      "After => MLL_cov(test, y): 20.976250753927943\n"
     ]
    },
    {
     "data": {
      "text/plain": [
       "BenchmarkTools.Trial: \n",
       "  memory estimate:  2.29 MiB\n",
       "  allocs estimate:  82678\n",
       "  --------------\n",
       "  minimum time:     32.396 ms (0.00% GC)\n",
       "  median time:      34.351 ms (0.00% GC)\n",
       "  mean time:        35.518 ms (1.96% GC)\n",
       "  maximum time:     45.975 ms (15.79% GC)\n",
       "  --------------\n",
       "  samples:          141\n",
       "  evals/sample:     1"
      ]
     },
     "execution_count": 36,
     "metadata": {},
     "output_type": "execute_result"
    }
   ],
   "source": [
    "k = GPy.kern.RatQuad(input_dim=d, variance=2.0, lengthscale=[2.0 for i=1:d], power=2.0, ARD=true)\n",
    "k.\"power\".fix()\n",
    "noise_var = 0.001\n",
    "gpy(k, noise_var, x_train, reshape(y_train, (length(y_train), 1)),\n",
    "x_test, reshape(y_test, (length(y_test), 1)))\n",
    "@benchmark gpy(k, noise_var, x_train, reshape(y_train, (length(y_train), 1)),\n",
    "x_test, reshape(y_test, (length(y_test), 1)), print_result=false, opt=false)"
   ]
  },
  {
   "cell_type": "markdown",
   "metadata": {},
   "source": [
    "### 2.4. Mattern 5/2 kernel"
   ]
  },
  {
   "cell_type": "code",
   "execution_count": 37,
   "metadata": {},
   "outputs": [
    {
     "name": "stdout",
     "output_type": "stream",
     "text": [
      "GPForecasting\n",
      "-------------\n",
      "Before => MLL_cov(train): 104.94568163481921\n",
      "Before => MSE(test): 0.2387315118745936\n",
      "Before => MLL_var(test, f): 0.875735261494879\n",
      "Before => MLL_cov(test, y): 93.0163136262823\n",
      "-------------\n",
      "After => MLL_cov(train): 28.50115756187644\n",
      "After => MSE(test): 0.09881765784592228\n",
      "After => MLL_var(test, f): 0.23168536130867723\n",
      "Aftyer => MLL_cov(test, y): 19.69022557212292\n"
     ]
    },
    {
     "data": {
      "text/plain": [
       "BenchmarkTools.Trial: \n",
       "  memory estimate:  8.95 MiB\n",
       "  allocs estimate:  61399\n",
       "  --------------\n",
       "  minimum time:     6.783 ms (0.00% GC)\n",
       "  median time:      8.386 ms (0.00% GC)\n",
       "  mean time:        10.281 ms (26.73% GC)\n",
       "  maximum time:     17.658 ms (44.55% GC)\n",
       "  --------------\n",
       "  samples:          486\n",
       "  evals/sample:     1"
      ]
     },
     "execution_count": 37,
     "metadata": {},
     "output_type": "execute_result"
    }
   ],
   "source": [
    "k = NoiseKernel(2.0 * (MA(5/2) ▷ [2.0 for i=1:d]), 0.001 * DiagonalKernel())\n",
    "m = ZeroMean()\n",
    "gpforecasting(m, k, x_train, y_train, x_test, y_test)\n",
    "@benchmark gpforecasting(m, k, x_train, y_train, x_test, y_test, print_result=false, opt=false)"
   ]
  },
  {
   "cell_type": "code",
   "execution_count": 38,
   "metadata": {},
   "outputs": [
    {
     "name": "stdout",
     "output_type": "stream",
     "text": [
      "GaussianProcesses\n",
      "-----------------\n",
      "Before => MLL_cov(train): 104.95021522614886\n",
      "Before => MSE(test): 0.2387415002455038\n",
      "Before => MLL_var(test, f): 0.8757821859749355\n",
      "Before => MLL_cov(test, y): 93.01808773030875\n",
      "-----------------\n",
      "After => MLL_cov(train): 28.501096338931987\n",
      "After => MSE(test): 0.09881866390272447\n",
      "After => MLL_var(test, f) after: 0.23169090100484718\n",
      "After => MLL_cov(test, y) after: 19.69104551362154\n"
     ]
    },
    {
     "data": {
      "text/plain": [
       "BenchmarkTools.Trial: \n",
       "  memory estimate:  2.16 MiB\n",
       "  allocs estimate:  4131\n",
       "  --------------\n",
       "  minimum time:     2.871 ms (0.00% GC)\n",
       "  median time:      3.712 ms (0.00% GC)\n",
       "  mean time:        4.280 ms (13.27% GC)\n",
       "  maximum time:     10.860 ms (56.98% GC)\n",
       "  --------------\n",
       "  samples:          1166\n",
       "  evals/sample:     1"
      ]
     },
     "execution_count": 38,
     "metadata": {},
     "output_type": "execute_result"
    }
   ],
   "source": [
    "k = Mat52Ard(log.([2.0 for i=1:d]), log(sqrt(2.0)))\n",
    "m = MeanZero()\n",
    "logNoise = log(sqrt(0.001))\n",
    "gaussianprocesses(m, k, logNoise, x_train', y_train, x_test', y_test)\n",
    "@benchmark gaussianprocesses(m, k, logNoise, x_train', y_train, x_test', y_test, print_result=false, opt=false)"
   ]
  },
  {
   "cell_type": "code",
   "execution_count": 39,
   "metadata": {},
   "outputs": [
    {
     "name": "stdout",
     "output_type": "stream",
     "text": [
      "GPy\n",
      "---\n",
      "Before => MLL_cov(train): 104.95016988130722\n",
      "Before => MSE(test): 0.2387414003320791\n",
      "Before => MLL_var(test, f): 0.8757817166032631\n",
      "Before => MLL_cov(test, y): 93.01806998730181\n",
      "---\n",
      "After => MLL_cov(train): 28.501095370926713\n",
      "After => MSE(test): 0.09881771396260247\n",
      "After => MLL_var(test, f): 0.23168575878030995\n",
      "After => MLL_cov(test, y): 19.6902352414579\n"
     ]
    },
    {
     "data": {
      "text/plain": [
       "BenchmarkTools.Trial: \n",
       "  memory estimate:  2.29 MiB\n",
       "  allocs estimate:  82678\n",
       "  --------------\n",
       "  minimum time:     31.306 ms (0.00% GC)\n",
       "  median time:      32.442 ms (0.00% GC)\n",
       "  mean time:        33.556 ms (2.11% GC)\n",
       "  maximum time:     43.727 ms (20.07% GC)\n",
       "  --------------\n",
       "  samples:          149\n",
       "  evals/sample:     1"
      ]
     },
     "execution_count": 39,
     "metadata": {},
     "output_type": "execute_result"
    }
   ],
   "source": [
    "k = GPy.kern.Matern52(input_dim=d, variance=2.0, lengthscale=[2.0 for i=1:d], ARD=true)\n",
    "noise_var = 0.001\n",
    "gpy(k, noise_var, x_train, reshape(y_train, (length(y_train), 1)),\n",
    "x_test, reshape(y_test, (length(y_test), 1)))\n",
    "@benchmark gpy(k, noise_var, x_train, reshape(y_train, (length(y_train), 1)),\n",
    "x_test, reshape(y_test, (length(y_test), 1)), print_result=false, opt=false)"
   ]
  },
  {
   "cell_type": "markdown",
   "metadata": {},
   "source": [
    "## 3. Multidimensional output problems"
   ]
  },
  {
   "cell_type": "code",
   "execution_count": 40,
   "metadata": {},
   "outputs": [],
   "source": [
    "seed!(314159265)                                                                             \n",
    "                                                                                             \n",
    "n = 100                                                                                      \n",
    "p = 5                                                                                        \n",
    "                                                                                             \n",
    "C = rand(p, p)                                                                               \n",
    "                                                                                             \n",
    "x = sort(rand(2n))                                                                           \n",
    "y = zeros(2n, p)                                                                             \n",
    "y[1,:] = rand(p)                                                                             \n",
    "for i=2:2n                                                                                   \n",
    "    y[i,:] = y[i-1,:] .+ rand(p) .- 0.5                                                      \n",
    "end                                                                                          \n",
    "                                                                                             \n",
    "y = y*C                                                                                      \n",
    "x_train = x[1:2:end]                                                                         \n",
    "x_test = x[2:2:end]                                                                          \n",
    "y_train = y[1:2:end,:]                                                                       \n",
    "y_test = y[2:2:end,:]                                                                        \n",
    "mean_y_train = mean(y_train, dims=1)                                                         \n",
    "std_y_train = std(y_train, dims=1)                                                           \n",
    "y_train = (y_train .- mean_y_train) ./ std_y_train                                           \n",
    "y_test = (y_test .- mean_y_train) ./ std_y_train\n",
    ";"
   ]
  },
  {
   "cell_type": "markdown",
   "metadata": {},
   "source": [
    "### 3.1.  Identity coregionalization matrix (full rank)"
   ]
  },
  {
   "cell_type": "code",
   "execution_count": 41,
   "metadata": {},
   "outputs": [
    {
     "name": "stdout",
     "output_type": "stream",
     "text": [
      "GPForecasting\n",
      "-------------\n",
      "Before => MLL_cov(train): 123269.87302493502\n",
      "Before => MSE_1(test): 0.44000806383244245\n",
      "Before => MSE_2(test): 0.5162941864690386\n",
      "Before => MSE_3(test): 0.4376368048964098\n",
      "Before => MSE_4(test): 0.4569272147581291\n",
      "Before => MSE_5(test): 0.4554561556686091\n",
      "-------------\n",
      "After => MLL_cov(train): 143.41651616737295\n",
      "After => MSE_1(test): 0.04083420618349919\n",
      "After => MSE_2(test): 0.057474087179421\n",
      "After => MSE_3(test): 0.04195717203591064\n",
      "After => MSE_4(test): 0.06368191349412453\n",
      "After => MSE_5(test): 0.0455594276166225\n"
     ]
    }
   ],
   "source": [
    "println(\"GPForecasting\")\n",
    "println(\"-------------\")\n",
    "H = Eye(p)\n",
    "gp = GPForecasting.GP(OLMMKernel(p, p, 0.0, [0.001 for i=1:p], H, [(EQ() ▷ 1.0) for i=1:p]))\n",
    "before = condition(gp, x_train, y_train)\n",
    "b = before.m(x_test)\n",
    "println(\"Before => MLL_cov(train): \", -logpdf(gp, x_train, y_train))\n",
    "for i=1:p\n",
    "    println(\"Before => MSE_$(i)(test): \", mse(b[:,i], y_test[:,i]))\n",
    "end\n",
    "\n",
    "gp = learn(gp, x_train, y_train, objective, trace=false)\n",
    "println(\"-------------\")\n",
    "\n",
    "after = condition(gp, x_train, y_train)\n",
    "a = after.m(x_test)\n",
    "println(\"After => MLL_cov(train): \", -logpdf(gp, x_train, y_train))\n",
    "for i=1:p\n",
    "    println(\"After => MSE_$(i)(test): \", mse(a[:,i], y_test[:,i]))\n",
    "end"
   ]
  },
  {
   "cell_type": "code",
   "execution_count": 43,
   "metadata": {},
   "outputs": [
    {
     "name": "stdout",
     "output_type": "stream",
     "text": [
      "GPy\n",
      "---\n",
      "Before => MLL_cov(train): 123387.29117724793\n",
      "Before => MSE_1(test): 0.44000808028240757\n",
      "Before => MSE_2(test): 0.5162942530173277\n",
      "Before => MSE_3(test): 0.43763686052604156\n",
      "Before => MSE_4(test): 0.45692737714738757\n",
      "Before => MSE_5(test): 0.45545617765610297\n",
      "---\n",
      "After => MLL_cov(train): 144.9376530219561\n",
      "After => MSE_1(test): 0.04013653573389523\n",
      "After => MSE_2(test): 0.06651769443900414\n",
      "After => MSE_3(test): 0.04148085594498114\n",
      "After => MSE_4(test): 0.06417540466774445\n",
      "After => MSE_5(test): 0.04629993565336812\n"
     ]
    }
   ],
   "source": [
    "println(\"GPy\")\n",
    "println(\"---\")\n",
    "H = Eye(p)\n",
    "kappa = zeros(5)\n",
    "K = GPy.kern.RBF(input_dim=1, variance=1.0, lengthscale=1.0)\n",
    "K.\"variance\".fix()\n",
    "k = GPy.util.multioutput.ICM(input_dim=1, num_outputs=5, kernel=K, W_rank=5, W=Matrix(H), kappa=kappa)\n",
    "k.\"B\".\"W\".fix()\n",
    "k.\"B\".\"kappa\".fix()\n",
    "gp = GPy.models.GPCoregionalizedRegression([reshape(x_train, (n, 1)) for i=1:p], [y_train[:,i:i] for i=1:p], kernel=k)\n",
    "gp.\"mixed_noise\".\"Gaussian_noise_0\".variance = 0.001\n",
    "gp.\"mixed_noise\".\"Gaussian_noise_1\".variance = 0.001\n",
    "gp.\"mixed_noise\".\"Gaussian_noise_2\".variance = 0.001\n",
    "gp.\"mixed_noise\".\"Gaussian_noise_3\".variance = 0.001\n",
    "gp.\"mixed_noise\".\"Gaussian_noise_4\".variance = 0.001\n",
    "\n",
    "println(\"Before => MLL_cov(train): \", gp.objective_function())\n",
    "for i=1:p\n",
    "    println(\"Before => MSE_$(i)(test): \", mse(gp.predict(hcat(x_test, (i-1)*ones(Int64, n)), Y_metadata=Dict(\"output_index\" => [i-1 for j=1:n]))[1], y_test[:,i]))\n",
    "end\n",
    "\n",
    "gp.optimize()\n",
    "println(\"---\")\n",
    "\n",
    "println(\"After => MLL_cov(train): \", gp.objective_function())\n",
    "for i=1:p\n",
    "    println(\"After => MSE_$(i)(test): \", mse(gp.predict(hcat(x_test, (i-1)*ones(Int64, n)), Y_metadata=Dict(\"output_index\" => [i-1 for j=1:n]))[1], y_test[:,i]))\n",
    "end"
   ]
  },
  {
   "cell_type": "markdown",
   "metadata": {},
   "source": [
    "### 3.2. Fixed full rank coregionalization matrix"
   ]
  },
  {
   "cell_type": "code",
   "execution_count": 44,
   "metadata": {},
   "outputs": [
    {
     "name": "stdout",
     "output_type": "stream",
     "text": [
      "GPForecasting\n",
      "-------------\n",
      "Before => MLL_cov(train): 120943.86231187363\n",
      "Before => MSE_1(test): 0.4400080638324424\n",
      "Before => MSE_2(test): 0.5162941864690385\n",
      "Before => MSE_3(test): 0.4376368048964098\n",
      "Before => MSE_4(test): 0.45692721475812936\n",
      "Before => MSE_5(test): 0.4554561556686091\n",
      "-------------\n",
      "After => MLL_cov(train): -257.56556243845984\n",
      "After => MSE_1(test): 0.04238016066550304\n",
      "After => MSE_2(test): 0.0596619194006132\n",
      "After => MSE_3(test): 0.044695518933201485\n",
      "After => MSE_4(test): 0.06734888377183729\n",
      "After => MSE_5(test): 0.04607940775581372\n"
     ]
    }
   ],
   "source": [
    "println(\"GPForecasting\")\n",
    "println(\"-------------\")\n",
    "U, S, V = svd(cov(y_train))\n",
    "H = U * Diagonal(sqrt.(S))\n",
    "gp = GPForecasting.GP(OLMMKernel(p, p, 0.0, [0.001 for i=1:p], H, [(EQ() ▷ 1.0) for i=1:p]))\n",
    "before = condition(gp, x_train, y_train)\n",
    "b = before.m(x_test)\n",
    "println(\"Before => MLL_cov(train): \", -logpdf(gp, x_train, y_train))\n",
    "for i=1:p\n",
    "    println(\"Before => MSE_$(i)(test): \", mse(b[:,i], y_test[:,i]))\n",
    "end\n",
    "\n",
    "gp = learn(gp, x_train, y_train, objective, trace=false)\n",
    "println(\"-------------\")\n",
    "\n",
    "after = condition(gp, x_train, y_train)\n",
    "a = after.m(x_test)\n",
    "println(\"After => MLL_cov(train): \", -logpdf(gp, x_train, y_train))\n",
    "for i=1:p\n",
    "    println(\"After => MSE_$(i)(test): \", mse(a[:,i], y_test[:,i]))\n",
    "end"
   ]
  },
  {
   "cell_type": "code",
   "execution_count": 45,
   "metadata": {},
   "outputs": [
    {
     "name": "stdout",
     "output_type": "stream",
     "text": [
      "GPy\n",
      "---\n",
      "Before => MLL_cov(train): 121438.73472877713\n",
      "Before => MSE_1(test): 0.4417629761225589\n",
      "Before => MSE_2(test): 0.5123235315954173\n",
      "Before => MSE_3(test): 0.4350687663462204\n",
      "Before => MSE_4(test): 0.46757976322368217\n",
      "Before => MSE_5(test): 0.45750958963607485\n",
      "---\n",
      "After => MLL_cov(train): -9.533891613049974\n",
      "After => MSE_1(test): 0.0323054442034474\n",
      "After => MSE_2(test): 0.044964068328791046\n",
      "After => MSE_3(test): 0.03378538619952279\n",
      "After => MSE_4(test): 0.0484520468778252\n",
      "After => MSE_5(test): 0.031411676773043615\n"
     ]
    }
   ],
   "source": [
    "println(\"GPy\")\n",
    "println(\"---\")\n",
    "U, S, V = svd(cov(y_train))\n",
    "H = U * Diagonal(sqrt.(S))\n",
    "kappa = zeros(5)\n",
    "K = GPy.kern.RBF(input_dim=1, variance=1.0, lengthscale=1.0)\n",
    "K.\"variance\".fix()\n",
    "k = GPy.util.multioutput.ICM(input_dim=1, num_outputs=5, kernel=K, W_rank=5, W=H, kappa=kappa)\n",
    "k.\"B\".\"W\".fix()\n",
    "k.\"B\".\"kappa\".fix()\n",
    "gp = GPy.models.GPCoregionalizedRegression([reshape(x_train, (n, 1)) for i=1:p], [y_train[:,i:i] for i=1:p], kernel=k)\n",
    "gp.\"mixed_noise\".\"Gaussian_noise_0\".variance = 0.001\n",
    "gp.\"mixed_noise\".\"Gaussian_noise_1\".variance = 0.001\n",
    "gp.\"mixed_noise\".\"Gaussian_noise_2\".variance = 0.001\n",
    "gp.\"mixed_noise\".\"Gaussian_noise_3\".variance = 0.001\n",
    "gp.\"mixed_noise\".\"Gaussian_noise_4\".variance = 0.001\n",
    "\n",
    "println(\"Before => MLL_cov(train): \", gp.objective_function())\n",
    "for i=1:p\n",
    "    println(\"Before => MSE_$(i)(test): \", mse(gp.predict(hcat(x_test, (i-1)*ones(Int64, n)), Y_metadata=Dict(\"output_index\" => [i-1 for j=1:n]))[1], y_test[:,i]))\n",
    "end\n",
    "\n",
    "gp.optimize()\n",
    "println(\"---\")\n",
    "\n",
    "println(\"After => MLL_cov(train): \", gp.objective_function())\n",
    "for i=1:p\n",
    "    println(\"After => MSE_$(i)(test): \", mse(gp.predict(hcat(x_test, (i-1)*ones(Int64, n)), Y_metadata=Dict(\"output_index\" => [i-1 for j=1:n]))[1], y_test[:,i]))\n",
    "end"
   ]
  },
  {
   "cell_type": "markdown",
   "metadata": {},
   "source": [
    "### 3.3. Fixed rank = 3 coregionalization matrix"
   ]
  },
  {
   "cell_type": "code",
   "execution_count": 46,
   "metadata": {},
   "outputs": [
    {
     "name": "stdout",
     "output_type": "stream",
     "text": [
      "GPForecasting\n",
      "-------------\n",
      "Before => MLL_cov(train): 717607.8919663227\n",
      "Before => MSE_1(test): 0.4397352304458172\n",
      "Before => MSE_2(test): 0.5166727863649464\n",
      "Before => MSE_3(test): 0.43872550877010497\n",
      "Before => MSE_4(test): 0.4573095643804965\n",
      "Before => MSE_5(test): 0.4559606375143938\n",
      "-------------\n",
      "After => MLL_cov(train): -167.2241981236382\n",
      "After => MSE_1(test): 0.044906944786545194\n",
      "After => MSE_2(test): 0.060189020445752854\n",
      "After => MSE_3(test): 0.045324188900885104\n",
      "After => MSE_4(test): 0.07436374601653983\n",
      "After => MSE_5(test): 0.04701795422700438\n"
     ]
    }
   ],
   "source": [
    "println(\"GPForecasting\")\n",
    "println(\"-------------\")\n",
    "U, S, V = svd(cov(y_train))\n",
    "H = U * Diagonal(sqrt.(S))[:,1:3]\n",
    "gp = GPForecasting.GP(OLMMKernel(3, p, 0.0, [0.001 for i=1:3], H, [(EQ() ▷ 1.0) for i=1:3]))\n",
    "before = condition(gp, x_train, y_train)\n",
    "b = before.m(x_test)\n",
    "println(\"Before => MLL_cov(train): \", -logpdf(gp, x_train, y_train))\n",
    "for i=1:p\n",
    "    println(\"Before => MSE_$(i)(test): \", mse(b[:,i], y_test[:,i]))\n",
    "end\n",
    "\n",
    "gp = learn(gp, x_train, y_train, objective, trace=false)\n",
    "println(\"-------------\")\n",
    "\n",
    "after = condition(gp, x_train, y_train)\n",
    "a = after.m(x_test)\n",
    "println(\"After => MLL_cov(train): \", -logpdf(gp, x_train, y_train))\n",
    "for i=1:p\n",
    "    println(\"After => MSE_$(i)(test): \", mse(a[:,i], y_test[:,i]))\n",
    "end"
   ]
  },
  {
   "cell_type": "code",
   "execution_count": 47,
   "metadata": {},
   "outputs": [
    {
     "name": "stdout",
     "output_type": "stream",
     "text": [
      "GPy\n",
      "---\n",
      "Before => MLL_cov(train): 121510.65665195147\n",
      "Before => MSE_1(test): 0.4418281589870574\n",
      "Before => MSE_2(test): 0.5125821765244223\n",
      "Before => MSE_3(test): 0.43557414993598376\n",
      "Before => MSE_4(test): 0.4682367380874273\n",
      "Before => MSE_5(test): 0.4578379151938163\n",
      "---\n",
      "After => MLL_cov(train): -12.118713101147648\n",
      "After => MSE_1(test): 0.0329529227952368\n",
      "After => MSE_2(test): 0.047290871358758944\n",
      "After => MSE_3(test): 0.03543107436908517\n",
      "After => MSE_4(test): 0.051982404684390096\n",
      "After => MSE_5(test): 0.03255413227247944\n"
     ]
    }
   ],
   "source": [
    "println(\"GPy\")\n",
    "println(\"---\")\n",
    "U, S, V = svd(cov(y_train))\n",
    "H = U * Diagonal(sqrt.(S))[:,1:3]\n",
    "kappa = zeros(5)\n",
    "K = GPy.kern.RBF(input_dim=1, variance=1.0, lengthscale=1.0)\n",
    "K.\"variance\".fix()\n",
    "k = GPy.util.multioutput.ICM(input_dim=1, num_outputs=5, kernel=K, W_rank=3, W=H, kappa=kappa)\n",
    "k.\"B\".\"W\".fix()\n",
    "k.\"B\".\"kappa\".fix()\n",
    "gp = GPy.models.GPCoregionalizedRegression([reshape(x_train, (n, 1)) for i=1:p], [y_train[:,i:i] for i=1:p], kernel=k)\n",
    "gp.\"mixed_noise\".\"Gaussian_noise_0\".variance = 0.001\n",
    "gp.\"mixed_noise\".\"Gaussian_noise_1\".variance = 0.001\n",
    "gp.\"mixed_noise\".\"Gaussian_noise_2\".variance = 0.001\n",
    "gp.\"mixed_noise\".\"Gaussian_noise_3\".variance = 0.001\n",
    "gp.\"mixed_noise\".\"Gaussian_noise_4\".variance = 0.001\n",
    "\n",
    "println(\"Before => MLL_cov(train): \", gp.objective_function())\n",
    "for i=1:p\n",
    "    println(\"Before => MSE_$(i)(test): \", mse(gp.predict(hcat(x_test, (i-1)*ones(Int64, n)), Y_metadata=Dict(\"output_index\" => [i-1 for j=1:n]))[1], y_test[:,i]))\n",
    "end\n",
    "\n",
    "gp.optimize()\n",
    "println(\"---\")\n",
    "\n",
    "println(\"After => MLL_cov(train): \", gp.objective_function())\n",
    "for i=1:p\n",
    "    println(\"After => MSE_$(i)(test): \", mse(gp.predict(hcat(x_test, (i-1)*ones(Int64, n)), Y_metadata=Dict(\"output_index\" => [i-1 for j=1:n]))[1], y_test[:,i]))\n",
    "end"
   ]
  },
  {
   "cell_type": "code",
   "execution_count": null,
   "metadata": {},
   "outputs": [],
   "source": []
  }
 ],
 "metadata": {
  "kernelspec": {
   "display_name": "Julia 1.1.0",
   "language": "julia",
   "name": "julia-1.1"
  },
  "language_info": {
   "file_extension": ".jl",
   "mimetype": "application/julia",
   "name": "julia",
   "version": "1.1.0"
  }
 },
 "nbformat": 4,
 "nbformat_minor": 2
}
